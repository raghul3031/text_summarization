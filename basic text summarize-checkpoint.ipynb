{
 "cells": [
  {
   "cell_type": "code",
   "execution_count": 4,
   "metadata": {},
   "outputs": [],
   "source": [
    "import spacy\n",
    "import pandas as pd\n",
    "from spacy.lang.en.stop_words import STOP_WORDS\n",
    "from string  import punctuation"
   ]
  },
  {
   "cell_type": "code",
   "execution_count": 2,
   "metadata": {},
   "outputs": [],
   "source": [
    "stopwords = list(STOP_WORDS)"
   ]
  },
  {
   "cell_type": "code",
   "execution_count": 7,
   "metadata": {},
   "outputs": [],
   "source": [
    "data = pd.read_excel(r'C:\\Users\\my pc\\Downloads\\TASK.xlsx')"
   ]
  },
  {
   "cell_type": "code",
   "execution_count": 8,
   "metadata": {},
   "outputs": [
    {
     "data": {
      "text/html": [
       "<div>\n",
       "<style scoped>\n",
       "    .dataframe tbody tr th:only-of-type {\n",
       "        vertical-align: middle;\n",
       "    }\n",
       "\n",
       "    .dataframe tbody tr th {\n",
       "        vertical-align: top;\n",
       "    }\n",
       "\n",
       "    .dataframe thead th {\n",
       "        text-align: right;\n",
       "    }\n",
       "</style>\n",
       "<table border=\"1\" class=\"dataframe\">\n",
       "  <thead>\n",
       "    <tr style=\"text-align: right;\">\n",
       "      <th></th>\n",
       "      <th>Unnamed: 0</th>\n",
       "      <th>Intoduction</th>\n",
       "      <th>Unnamed: 2</th>\n",
       "      <th>Unnamed: 3</th>\n",
       "      <th>Unnamed: 4</th>\n",
       "      <th>Unnamed: 5</th>\n",
       "      <th>Unnamed: 6</th>\n",
       "      <th>Unnamed: 7</th>\n",
       "      <th>Unnamed: 8</th>\n",
       "      <th>Unnamed: 9</th>\n",
       "    </tr>\n",
       "  </thead>\n",
       "  <tbody>\n",
       "    <tr>\n",
       "      <th>0</th>\n",
       "      <td>NaN</td>\n",
       "      <td>Acnesol Gel is an antibiotic that fights bacte...</td>\n",
       "      <td>NaN</td>\n",
       "      <td>NaN</td>\n",
       "      <td>NaN</td>\n",
       "      <td>NaN</td>\n",
       "      <td>NaN</td>\n",
       "      <td>NaN</td>\n",
       "      <td>NaN</td>\n",
       "      <td>NaN</td>\n",
       "    </tr>\n",
       "    <tr>\n",
       "      <th>1</th>\n",
       "      <td>NaN</td>\n",
       "      <td>Ambrodil Syrup is used for treating various re...</td>\n",
       "      <td>NaN</td>\n",
       "      <td>NaN</td>\n",
       "      <td>NaN</td>\n",
       "      <td>NaN</td>\n",
       "      <td>NaN</td>\n",
       "      <td>NaN</td>\n",
       "      <td>NaN</td>\n",
       "      <td>NaN</td>\n",
       "    </tr>\n",
       "    <tr>\n",
       "      <th>2</th>\n",
       "      <td>NaN</td>\n",
       "      <td>Augmentin 625 Duo Tablet is a penicillin-type ...</td>\n",
       "      <td>NaN</td>\n",
       "      <td>NaN</td>\n",
       "      <td>NaN</td>\n",
       "      <td>NaN</td>\n",
       "      <td>NaN</td>\n",
       "      <td>NaN</td>\n",
       "      <td>NaN</td>\n",
       "      <td>NaN</td>\n",
       "    </tr>\n",
       "    <tr>\n",
       "      <th>3</th>\n",
       "      <td>NaN</td>\n",
       "      <td>Azithral 500 Tablet is an antibiotic used to t...</td>\n",
       "      <td>NaN</td>\n",
       "      <td>NaN</td>\n",
       "      <td>NaN</td>\n",
       "      <td>NaN</td>\n",
       "      <td>NaN</td>\n",
       "      <td>NaN</td>\n",
       "      <td>NaN</td>\n",
       "      <td>NaN</td>\n",
       "    </tr>\n",
       "    <tr>\n",
       "      <th>4</th>\n",
       "      <td>NaN</td>\n",
       "      <td>Alkasol Oral Solution is a medicine used in th...</td>\n",
       "      <td>NaN</td>\n",
       "      <td>NaN</td>\n",
       "      <td>NaN</td>\n",
       "      <td>NaN</td>\n",
       "      <td>NaN</td>\n",
       "      <td>NaN</td>\n",
       "      <td>NaN</td>\n",
       "      <td>NaN</td>\n",
       "    </tr>\n",
       "  </tbody>\n",
       "</table>\n",
       "</div>"
      ],
      "text/plain": [
       "   Unnamed: 0                                        Intoduction  Unnamed: 2  \\\n",
       "0         NaN  Acnesol Gel is an antibiotic that fights bacte...         NaN   \n",
       "1         NaN  Ambrodil Syrup is used for treating various re...         NaN   \n",
       "2         NaN  Augmentin 625 Duo Tablet is a penicillin-type ...         NaN   \n",
       "3         NaN  Azithral 500 Tablet is an antibiotic used to t...         NaN   \n",
       "4         NaN  Alkasol Oral Solution is a medicine used in th...         NaN   \n",
       "\n",
       "   Unnamed: 3  Unnamed: 4  Unnamed: 5  Unnamed: 6  Unnamed: 7  Unnamed: 8  \\\n",
       "0         NaN         NaN         NaN         NaN         NaN         NaN   \n",
       "1         NaN         NaN         NaN         NaN         NaN         NaN   \n",
       "2         NaN         NaN         NaN         NaN         NaN         NaN   \n",
       "3         NaN         NaN         NaN         NaN         NaN         NaN   \n",
       "4         NaN         NaN         NaN         NaN         NaN         NaN   \n",
       "\n",
       "  Unnamed: 9  \n",
       "0        NaN  \n",
       "1        NaN  \n",
       "2        NaN  \n",
       "3        NaN  \n",
       "4        NaN  "
      ]
     },
     "execution_count": 8,
     "metadata": {},
     "output_type": "execute_result"
    }
   ],
   "source": [
    "data.head()"
   ]
  },
  {
   "cell_type": "code",
   "execution_count": 10,
   "metadata": {},
   "outputs": [
    {
     "data": {
      "text/plain": [
       "(1000, 10)"
      ]
     },
     "execution_count": 10,
     "metadata": {},
     "output_type": "execute_result"
    }
   ],
   "source": [
    "data.shape"
   ]
  },
  {
   "cell_type": "code",
   "execution_count": 11,
   "metadata": {},
   "outputs": [
    {
     "data": {
      "text/plain": [
       "Index(['Unnamed: 0', 'Intoduction', 'Unnamed: 2', 'Unnamed: 3', 'Unnamed: 4',\n",
       "       'Unnamed: 5', 'Unnamed: 6', 'Unnamed: 7', 'Unnamed: 8', 'Unnamed: 9'],\n",
       "      dtype='object')"
      ]
     },
     "execution_count": 11,
     "metadata": {},
     "output_type": "execute_result"
    }
   ],
   "source": [
    "data.columns"
   ]
  },
  {
   "cell_type": "code",
   "execution_count": 13,
   "metadata": {},
   "outputs": [],
   "source": [
    "data.drop(['Unnamed: 0',  'Unnamed: 2', 'Unnamed: 3', 'Unnamed: 4',\n",
    "       'Unnamed: 5', 'Unnamed: 6', 'Unnamed: 7', 'Unnamed: 8', 'Unnamed: 9'],axis =1,inplace=True)"
   ]
  },
  {
   "cell_type": "code",
   "execution_count": 14,
   "metadata": {},
   "outputs": [
    {
     "data": {
      "text/html": [
       "<div>\n",
       "<style scoped>\n",
       "    .dataframe tbody tr th:only-of-type {\n",
       "        vertical-align: middle;\n",
       "    }\n",
       "\n",
       "    .dataframe tbody tr th {\n",
       "        vertical-align: top;\n",
       "    }\n",
       "\n",
       "    .dataframe thead th {\n",
       "        text-align: right;\n",
       "    }\n",
       "</style>\n",
       "<table border=\"1\" class=\"dataframe\">\n",
       "  <thead>\n",
       "    <tr style=\"text-align: right;\">\n",
       "      <th></th>\n",
       "      <th>Intoduction</th>\n",
       "    </tr>\n",
       "  </thead>\n",
       "  <tbody>\n",
       "    <tr>\n",
       "      <th>0</th>\n",
       "      <td>Acnesol Gel is an antibiotic that fights bacte...</td>\n",
       "    </tr>\n",
       "    <tr>\n",
       "      <th>1</th>\n",
       "      <td>Ambrodil Syrup is used for treating various re...</td>\n",
       "    </tr>\n",
       "    <tr>\n",
       "      <th>2</th>\n",
       "      <td>Augmentin 625 Duo Tablet is a penicillin-type ...</td>\n",
       "    </tr>\n",
       "    <tr>\n",
       "      <th>3</th>\n",
       "      <td>Azithral 500 Tablet is an antibiotic used to t...</td>\n",
       "    </tr>\n",
       "    <tr>\n",
       "      <th>4</th>\n",
       "      <td>Alkasol Oral Solution is a medicine used in th...</td>\n",
       "    </tr>\n",
       "  </tbody>\n",
       "</table>\n",
       "</div>"
      ],
      "text/plain": [
       "                                         Intoduction\n",
       "0  Acnesol Gel is an antibiotic that fights bacte...\n",
       "1  Ambrodil Syrup is used for treating various re...\n",
       "2  Augmentin 625 Duo Tablet is a penicillin-type ...\n",
       "3  Azithral 500 Tablet is an antibiotic used to t...\n",
       "4  Alkasol Oral Solution is a medicine used in th..."
      ]
     },
     "execution_count": 14,
     "metadata": {},
     "output_type": "execute_result"
    }
   ],
   "source": [
    "data.head()"
   ]
  },
  {
   "cell_type": "code",
   "execution_count": 3,
   "metadata": {},
   "outputs": [],
   "source": [
    "nlp = spacy.load('en_core_web_sm')"
   ]
  },
  {
   "cell_type": "code",
   "execution_count": 17,
   "metadata": {},
   "outputs": [
    {
     "data": {
      "text/html": [
       "<div>\n",
       "<style scoped>\n",
       "    .dataframe tbody tr th:only-of-type {\n",
       "        vertical-align: middle;\n",
       "    }\n",
       "\n",
       "    .dataframe tbody tr th {\n",
       "        vertical-align: top;\n",
       "    }\n",
       "\n",
       "    .dataframe thead th {\n",
       "        text-align: right;\n",
       "    }\n",
       "</style>\n",
       "<table border=\"1\" class=\"dataframe\">\n",
       "  <thead>\n",
       "    <tr style=\"text-align: right;\">\n",
       "      <th></th>\n",
       "      <th>Intoduction</th>\n",
       "    </tr>\n",
       "  </thead>\n",
       "  <tbody>\n",
       "    <tr>\n",
       "      <th>0</th>\n",
       "      <td>Acnesol Gel is an antibiotic that fights bacte...</td>\n",
       "    </tr>\n",
       "  </tbody>\n",
       "</table>\n",
       "</div>"
      ],
      "text/plain": [
       "                                         Intoduction\n",
       "0  Acnesol Gel is an antibiotic that fights bacte..."
      ]
     },
     "execution_count": 17,
     "metadata": {},
     "output_type": "execute_result"
    }
   ],
   "source": [
    "data.head(1)"
   ]
  },
  {
   "cell_type": "code",
   "execution_count": 18,
   "metadata": {},
   "outputs": [],
   "source": [
    "val = \"\"\"Acnesol Gel is an antibiotic that fights bacteria. It is used to treat acne, which appears as spots or pimples on your face, chest or back. This medicine works by attacking the bacteria that cause these pimples.Acnesol Gel is only meant for external use and should be used as advised by your doctor. You should normally wash and dry the affected area before applying a thin layer of the medicine. It should not be applied to broken or damaged skin. Avoid any contact with your eyes, nose, or mouth. Rinse it off with water if you accidentally get it in these areas. It may take several weeks for your symptoms to improve, but you should keep using this medicine regularly. Do not stop using it as soon as your acne starts to get better. Ask your doctor when you should stop treatment.Common side effects like minor itching, burning, or redness of the skin and oily skin may be seen in some people. These are usually temporary and resolve on their own. Consult your doctor if they bother you or do not go away.It is a safe medicine, but you should inform your doctor if you have any problems with your bowels (intestines). Also, inform the doctor if you have ever had bloody diarrhea caused by taking antibiotics or if you are using any other medicines to treat skin conditions. Consult your doctor about using this medicine if you are pregnant or breastfeeding.\"\"\""
   ]
  },
  {
   "cell_type": "code",
   "execution_count": 19,
   "metadata": {},
   "outputs": [],
   "source": [
    "doc = nlp(val)"
   ]
  },
  {
   "cell_type": "code",
   "execution_count": 22,
   "metadata": {},
   "outputs": [
    {
     "name": "stdout",
     "output_type": "stream",
     "text": [
      "['Acnesol', 'Gel', 'is', 'an', 'antibiotic', 'that', 'fights', 'bacteria', '.', 'It', 'is', 'used', 'to', 'treat', 'acne', ',', 'which', 'appears', 'as', 'spots', 'or', 'pimples', 'on', 'your', 'face', ',', 'chest', 'or', 'back', '.', 'This', 'medicine', 'works', 'by', 'attacking', 'the', 'bacteria', 'that', 'cause', 'these', 'pimples', '.', 'Acnesol', 'Gel', 'is', 'only', 'meant', 'for', 'external', 'use', 'and', 'should', 'be', 'used', 'as', 'advised', 'by', 'your', 'doctor', '.', 'You', 'should', 'normally', 'wash', 'and', 'dry', 'the', 'affected', 'area', 'before', 'applying', 'a', 'thin', 'layer', 'of', 'the', 'medicine', '.', 'It', 'should', 'not', 'be', 'applied', 'to', 'broken', 'or', 'damaged', 'skin', '.', 'Avoid', 'any', 'contact', 'with', 'your', 'eyes', ',', 'nose', ',', 'or', 'mouth', '.', 'Rinse', 'it', 'off', 'with', 'water', 'if', 'you', 'accidentally', 'get', 'it', 'in', 'these', 'areas', '.', 'It', 'may', 'take', 'several', 'weeks', 'for', 'your', 'symptoms', 'to', 'improve', ',', 'but', 'you', 'should', 'keep', 'using', 'this', 'medicine', 'regularly', '.', 'Do', 'not', 'stop', 'using', 'it', 'as', 'soon', 'as', 'your', 'acne', 'starts', 'to', 'get', 'better', '.', 'Ask', 'your', 'doctor', 'when', 'you', 'should', 'stop', 'treatment', '.', 'Common', 'side', 'effects', 'like', 'minor', 'itching', ',', 'burning', ',', 'or', 'redness', 'of', 'the', 'skin', 'and', 'oily', 'skin', 'may', 'be', 'seen', 'in', 'some', 'people', '.', 'These', 'are', 'usually', 'temporary', 'and', 'resolve', 'on', 'their', 'own', '.', 'Consult', 'your', 'doctor', 'if', 'they', 'bother', 'you', 'or', 'do', 'not', 'go', 'away', '.', 'It', 'is', 'a', 'safe', 'medicine', ',', 'but', 'you', 'should', 'inform', 'your', 'doctor', 'if', 'you', 'have', 'any', 'problems', 'with', 'your', 'bowels', '(', 'intestines', ')', '.', 'Also', ',', 'inform', 'the', 'doctor', 'if', 'you', 'have', 'ever', 'had', 'bloody', 'diarrhea', 'caused', 'by', 'taking', 'antibiotics', 'or', 'if', 'you', 'are', 'using', 'any', 'other', 'medicines', 'to', 'treat', 'skin', 'conditions', '.', 'Consult', 'your', 'doctor', 'about', 'using', 'this', 'medicine', 'if', 'you', 'are', 'pregnant', 'or', 'breastfeeding', '.']\n"
     ]
    }
   ],
   "source": [
    "tokens = [token.text for token in doc]\n",
    "print (tokens)"
   ]
  },
  {
   "cell_type": "code",
   "execution_count": 24,
   "metadata": {},
   "outputs": [
    {
     "data": {
      "text/plain": [
       "'!\"#$%&\\'()*+,-./:;<=>?@[\\\\]^_`{|}~\\n'"
      ]
     },
     "execution_count": 24,
     "metadata": {},
     "output_type": "execute_result"
    }
   ],
   "source": [
    "punctuation = punctuation + '\\n'\n",
    "punctuation"
   ]
  },
  {
   "cell_type": "code",
   "execution_count": 25,
   "metadata": {},
   "outputs": [],
   "source": [
    "word_frequencies ={}\n",
    "for word in doc:\n",
    "    if word.text.lower() not in stopwords:\n",
    "        if word.text.lower() not in punctuation:\n",
    "            if word.text not in word_frequencies.keys():\n",
    "                word_frequencies[word.text] = 1\n",
    "            else:\n",
    "                word_frequencies[word.text] +=1"
   ]
  },
  {
   "cell_type": "code",
   "execution_count": 27,
   "metadata": {},
   "outputs": [
    {
     "name": "stdout",
     "output_type": "stream",
     "text": [
      "{'Acnesol': 2, 'Gel': 2, 'antibiotic': 1, 'fights': 1, 'bacteria': 2, 'treat': 2, 'acne': 2, 'appears': 1, 'spots': 1, 'pimples': 2, 'face': 1, 'chest': 1, 'medicine': 5, 'works': 1, 'attacking': 1, 'cause': 1, 'meant': 1, 'external': 1, 'use': 1, 'advised': 1, 'doctor': 6, 'normally': 1, 'wash': 1, 'dry': 1, 'affected': 1, 'area': 1, 'applying': 1, 'thin': 1, 'layer': 1, 'applied': 1, 'broken': 1, 'damaged': 1, 'skin': 4, 'Avoid': 1, 'contact': 1, 'eyes': 1, 'nose': 1, 'mouth': 1, 'Rinse': 1, 'water': 1, 'accidentally': 1, 'areas': 1, 'weeks': 1, 'symptoms': 1, 'improve': 1, 'regularly': 1, 'stop': 2, 'soon': 1, 'starts': 1, 'better': 1, 'Ask': 1, 'treatment': 1, 'Common': 1, 'effects': 1, 'like': 1, 'minor': 1, 'itching': 1, 'burning': 1, 'redness': 1, 'oily': 1, 'seen': 1, 'people': 1, 'usually': 1, 'temporary': 1, 'resolve': 1, 'Consult': 2, 'bother': 1, 'away': 1, 'safe': 1, 'inform': 2, 'problems': 1, 'bowels': 1, 'intestines': 1, 'bloody': 1, 'diarrhea': 1, 'caused': 1, 'taking': 1, 'antibiotics': 1, 'medicines': 1, 'conditions': 1, 'pregnant': 1, 'breastfeeding': 1}\n"
     ]
    }
   ],
   "source": [
    "print(word_frequencies)"
   ]
  },
  {
   "cell_type": "code",
   "execution_count": 28,
   "metadata": {},
   "outputs": [],
   "source": [
    "max_frequency = max(word_frequencies.values())"
   ]
  },
  {
   "cell_type": "code",
   "execution_count": 29,
   "metadata": {},
   "outputs": [
    {
     "data": {
      "text/plain": [
       "6"
      ]
     },
     "execution_count": 29,
     "metadata": {},
     "output_type": "execute_result"
    }
   ],
   "source": [
    "max_frequency"
   ]
  },
  {
   "cell_type": "code",
   "execution_count": 30,
   "metadata": {},
   "outputs": [],
   "source": [
    "for word in word_frequencies.keys():\n",
    "    word_frequencies[word] = word_frequencies[word]/max_frequency"
   ]
  },
  {
   "cell_type": "code",
   "execution_count": 31,
   "metadata": {},
   "outputs": [
    {
     "name": "stdout",
     "output_type": "stream",
     "text": [
      "{'Acnesol': 0.3333333333333333, 'Gel': 0.3333333333333333, 'antibiotic': 0.16666666666666666, 'fights': 0.16666666666666666, 'bacteria': 0.3333333333333333, 'treat': 0.3333333333333333, 'acne': 0.3333333333333333, 'appears': 0.16666666666666666, 'spots': 0.16666666666666666, 'pimples': 0.3333333333333333, 'face': 0.16666666666666666, 'chest': 0.16666666666666666, 'medicine': 0.8333333333333334, 'works': 0.16666666666666666, 'attacking': 0.16666666666666666, 'cause': 0.16666666666666666, 'meant': 0.16666666666666666, 'external': 0.16666666666666666, 'use': 0.16666666666666666, 'advised': 0.16666666666666666, 'doctor': 1.0, 'normally': 0.16666666666666666, 'wash': 0.16666666666666666, 'dry': 0.16666666666666666, 'affected': 0.16666666666666666, 'area': 0.16666666666666666, 'applying': 0.16666666666666666, 'thin': 0.16666666666666666, 'layer': 0.16666666666666666, 'applied': 0.16666666666666666, 'broken': 0.16666666666666666, 'damaged': 0.16666666666666666, 'skin': 0.6666666666666666, 'Avoid': 0.16666666666666666, 'contact': 0.16666666666666666, 'eyes': 0.16666666666666666, 'nose': 0.16666666666666666, 'mouth': 0.16666666666666666, 'Rinse': 0.16666666666666666, 'water': 0.16666666666666666, 'accidentally': 0.16666666666666666, 'areas': 0.16666666666666666, 'weeks': 0.16666666666666666, 'symptoms': 0.16666666666666666, 'improve': 0.16666666666666666, 'regularly': 0.16666666666666666, 'stop': 0.3333333333333333, 'soon': 0.16666666666666666, 'starts': 0.16666666666666666, 'better': 0.16666666666666666, 'Ask': 0.16666666666666666, 'treatment': 0.16666666666666666, 'Common': 0.16666666666666666, 'effects': 0.16666666666666666, 'like': 0.16666666666666666, 'minor': 0.16666666666666666, 'itching': 0.16666666666666666, 'burning': 0.16666666666666666, 'redness': 0.16666666666666666, 'oily': 0.16666666666666666, 'seen': 0.16666666666666666, 'people': 0.16666666666666666, 'usually': 0.16666666666666666, 'temporary': 0.16666666666666666, 'resolve': 0.16666666666666666, 'Consult': 0.3333333333333333, 'bother': 0.16666666666666666, 'away': 0.16666666666666666, 'safe': 0.16666666666666666, 'inform': 0.3333333333333333, 'problems': 0.16666666666666666, 'bowels': 0.16666666666666666, 'intestines': 0.16666666666666666, 'bloody': 0.16666666666666666, 'diarrhea': 0.16666666666666666, 'caused': 0.16666666666666666, 'taking': 0.16666666666666666, 'antibiotics': 0.16666666666666666, 'medicines': 0.16666666666666666, 'conditions': 0.16666666666666666, 'pregnant': 0.16666666666666666, 'breastfeeding': 0.16666666666666666}\n"
     ]
    }
   ],
   "source": [
    "print(word_frequencies)"
   ]
  },
  {
   "cell_type": "markdown",
   "metadata": {},
   "source": [
    "sentences tokenzation"
   ]
  },
  {
   "cell_type": "code",
   "execution_count": 32,
   "metadata": {},
   "outputs": [
    {
     "name": "stdout",
     "output_type": "stream",
     "text": [
      "[Acnesol Gel is an antibiotic that fights bacteria., It is used to treat acne, which appears as spots or pimples on your face, chest or back., This medicine works by attacking the bacteria that cause these pimples., Acnesol Gel is only meant for external use and should be used as advised by your doctor., You should normally wash and dry the affected area before applying a thin layer of the medicine., It should not be applied to broken or damaged skin., Avoid any contact with your eyes, nose, or mouth., Rinse it off with water if you accidentally get it in these areas., It may take several weeks for your symptoms to improve, but you should keep using this medicine regularly., Do not stop using it as soon as your acne starts to get better., Ask your doctor when you should stop treatment., Common side effects like minor itching, burning, or redness of the skin and oily skin may be seen in some people., These are usually temporary and resolve on their own., Consult your doctor if they bother you or do not go away., It is a safe medicine, but you should inform your doctor if you have any problems with your bowels (intestines)., Also, inform the doctor if you have ever had bloody diarrhea caused by taking antibiotics or if you are using any other medicines to treat skin conditions., Consult your doctor about using this medicine if you are pregnant or breastfeeding.]\n"
     ]
    }
   ],
   "source": [
    "sentence_tokens = [sent for sent in doc.sents]\n",
    "print(sentence_tokens)"
   ]
  },
  {
   "cell_type": "code",
   "execution_count": 33,
   "metadata": {},
   "outputs": [],
   "source": [
    "sentence_scores ={}\n",
    "for sent in sentence_tokens:\n",
    "    for word in sent :\n",
    "        if word.text.lower() in word_frequencies.keys():\n",
    "            if sent not in sentence_scores.keys():\n",
    "                sentence_scores[sent] = word_frequencies[word.text.lower()]\n",
    "            else : \n",
    "                sentence_scores[sent] += word_frequencies[word.text.lower()]"
   ]
  },
  {
   "cell_type": "code",
   "execution_count": 34,
   "metadata": {},
   "outputs": [
    {
     "data": {
      "text/plain": [
       "{Acnesol Gel is an antibiotic that fights bacteria.: 0.6666666666666666,\n",
       " It is used to treat acne, which appears as spots or pimples on your face, chest or back.: 1.6666666666666667,\n",
       " This medicine works by attacking the bacteria that cause these pimples.: 2.0,\n",
       " Acnesol Gel is only meant for external use and should be used as advised by your doctor.: 1.6666666666666665,\n",
       " You should normally wash and dry the affected area before applying a thin layer of the medicine.: 2.1666666666666665,\n",
       " It should not be applied to broken or damaged skin.: 1.1666666666666665,\n",
       " Avoid any contact with your eyes, nose, or mouth.: 0.6666666666666666,\n",
       " Rinse it off with water if you accidentally get it in these areas.: 0.5,\n",
       " It may take several weeks for your symptoms to improve, but you should keep using this medicine regularly.: 1.5000000000000002,\n",
       " Do not stop using it as soon as your acne starts to get better.: 1.1666666666666665,\n",
       " Ask your doctor when you should stop treatment.: 1.5,\n",
       " Common side effects like minor itching, burning, or redness of the skin and oily skin may be seen in some people.: 2.833333333333333,\n",
       " These are usually temporary and resolve on their own.: 0.5,\n",
       " Consult your doctor if they bother you or do not go away.: 1.3333333333333335,\n",
       " It is a safe medicine, but you should inform your doctor if you have any problems with your bowels (intestines).: 2.8333333333333326,\n",
       " Also, inform the doctor if you have ever had bloody diarrhea caused by taking antibiotics or if you are using any other medicines to treat skin conditions.: 3.4999999999999996,\n",
       " Consult your doctor about using this medicine if you are pregnant or breastfeeding.: 2.1666666666666665}"
      ]
     },
     "execution_count": 34,
     "metadata": {},
     "output_type": "execute_result"
    }
   ],
   "source": [
    "sentence_scores"
   ]
  },
  {
   "cell_type": "code",
   "execution_count": 35,
   "metadata": {},
   "outputs": [],
   "source": [
    "from heapq import nlargest"
   ]
  },
  {
   "cell_type": "code",
   "execution_count": 36,
   "metadata": {},
   "outputs": [
    {
     "data": {
      "text/plain": [
       "5"
      ]
     },
     "execution_count": 36,
     "metadata": {},
     "output_type": "execute_result"
    }
   ],
   "source": [
    "select_length = int(len(sentence_tokens)*0.3)\n",
    "select_length"
   ]
  },
  {
   "cell_type": "code",
   "execution_count": 37,
   "metadata": {},
   "outputs": [],
   "source": [
    "summary = nlargest(select_length,sentence_scores,key = sentence_scores.get)"
   ]
  },
  {
   "cell_type": "code",
   "execution_count": 38,
   "metadata": {},
   "outputs": [
    {
     "data": {
      "text/plain": [
       "[Also, inform the doctor if you have ever had bloody diarrhea caused by taking antibiotics or if you are using any other medicines to treat skin conditions.,\n",
       " Common side effects like minor itching, burning, or redness of the skin and oily skin may be seen in some people.,\n",
       " It is a safe medicine, but you should inform your doctor if you have any problems with your bowels (intestines).,\n",
       " You should normally wash and dry the affected area before applying a thin layer of the medicine.,\n",
       " Consult your doctor about using this medicine if you are pregnant or breastfeeding.]"
      ]
     },
     "execution_count": 38,
     "metadata": {},
     "output_type": "execute_result"
    }
   ],
   "source": [
    "summary"
   ]
  },
  {
   "cell_type": "code",
   "execution_count": 39,
   "metadata": {},
   "outputs": [],
   "source": [
    "final_summary = [word.text for word in summary]"
   ]
  },
  {
   "cell_type": "code",
   "execution_count": 41,
   "metadata": {},
   "outputs": [],
   "source": [
    "summary = ' '.join(final_summary)"
   ]
  },
  {
   "cell_type": "code",
   "execution_count": 42,
   "metadata": {},
   "outputs": [
    {
     "data": {
      "text/plain": [
       "'Also, inform the doctor if you have ever had bloody diarrhea caused by taking antibiotics or if you are using any other medicines to treat skin conditions. Common side effects like minor itching, burning, or redness of the skin and oily skin may be seen in some people. It is a safe medicine, but you should inform your doctor if you have any problems with your bowels (intestines). You should normally wash and dry the affected area before applying a thin layer of the medicine. Consult your doctor about using this medicine if you are pregnant or breastfeeding.'"
      ]
     },
     "execution_count": 42,
     "metadata": {},
     "output_type": "execute_result"
    }
   ],
   "source": [
    "summary"
   ]
  },
  {
   "cell_type": "code",
   "execution_count": 44,
   "metadata": {},
   "outputs": [
    {
     "data": {
      "text/plain": [
       "1361"
      ]
     },
     "execution_count": 44,
     "metadata": {},
     "output_type": "execute_result"
    }
   ],
   "source": [
    "len(val)"
   ]
  },
  {
   "cell_type": "code",
   "execution_count": 45,
   "metadata": {},
   "outputs": [
    {
     "data": {
      "text/plain": [
       "563"
      ]
     },
     "execution_count": 45,
     "metadata": {},
     "output_type": "execute_result"
    }
   ],
   "source": [
    "len(summary)"
   ]
  },
  {
   "cell_type": "code",
   "execution_count": null,
   "metadata": {},
   "outputs": [],
   "source": []
  }
 ],
 "metadata": {
  "kernelspec": {
   "display_name": "Python 3",
   "language": "python",
   "name": "python3"
  },
  "language_info": {
   "codemirror_mode": {
    "name": "ipython",
    "version": 3
   },
   "file_extension": ".py",
   "mimetype": "text/x-python",
   "name": "python",
   "nbconvert_exporter": "python",
   "pygments_lexer": "ipython3",
   "version": "3.7.6"
  }
 },
 "nbformat": 4,
 "nbformat_minor": 4
}
